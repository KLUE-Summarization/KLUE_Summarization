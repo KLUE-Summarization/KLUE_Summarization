{
 "cells": [
  {
   "cell_type": "code",
   "execution_count": 1,
   "metadata": {},
   "outputs": [],
   "source": [
    "from selenium import webdriver\n",
    "from urllib.request import urlopen\n",
    "from bs4 import BeautifulSoup as bs\n",
    "from selenium.webdriver.common.keys import Keys\n",
    "import time\n",
    "import sys\n",
    "import requests\n",
    "from tqdm import *"
   ]
  },
  {
   "cell_type": "code",
   "execution_count": 2,
   "metadata": {},
   "outputs": [],
   "source": [
    "id = \"hongseoljin\"\n",
    "pwd = \"garam8893~!\""
   ]
  },
  {
   "cell_type": "code",
   "execution_count": 3,
   "metadata": {},
   "outputs": [],
   "source": [
    "url = \"https://klue.kr/login\"\n",
    "\n",
    "options = webdriver.ChromeOptions()\n",
    "options.add_argument('--headless')\n",
    "options.add_argument('--no-sandbox')\n",
    "options.add_argument(\"--single-process\")\n",
    "options.add_argument(\"--disable-dev-shm-usage\")\n",
    "driver = webdriver.Chrome('C:/Users/scarl/Documents/chromedriver.exe', options=options)\n",
    "\n",
    "delay_time = 3\n",
    "driver.implicitly_wait(delay_time)\n",
    "\n",
    "driver.get(url)"
   ]
  },
  {
   "cell_type": "code",
   "execution_count": 4,
   "metadata": {},
   "outputs": [],
   "source": [
    "#아이디, 비밀번호에 접근\n",
    "input_id = driver.find_element_by_xpath(\"/html/body/div/div/div/div/div/div/input[1]\")\n",
    "input_id.send_keys(id)\n",
    "\n",
    "input_pwd = driver.find_element_by_xpath(\"/html/body/div/div/div/div/div/div/input[2]\")\n",
    "input_pwd.send_keys(pwd)"
   ]
  },
  {
   "cell_type": "code",
   "execution_count": 6,
   "metadata": {},
   "outputs": [],
   "source": [
    "#로그인 버튼 클릭\n",
    "login = driver.find_element_by_xpath(\"/html/body/div/div/div/div/div/div/button\")\n",
    "login.click()"
   ]
  },
  {
   "cell_type": "code",
   "execution_count": 7,
   "metadata": {},
   "outputs": [],
   "source": [
    "urls = [\"https://klue.kr/lectures/105715\",\n",
    "\"https://klue.kr/lectures/105716\",\n",
    "\"https://klue.kr/lectures/105717\",\n",
    "\"https://klue.kr/lectures/105718\",\n",
    "\"https://klue.kr/lectures/105719\",\n",
    "\"https://klue.kr/lectures/105720\",\n",
    "\"https://klue.kr/lectures/105721\",\n",
    "\"https://klue.kr/lectures/105722\",\n",
    "\"https://klue.kr/lectures/105723\",\n",
    "\"https://klue.kr/lectures/105724\",\n",
    "\"https://klue.kr/lectures/105725\",\n",
    "\"https://klue.kr/lectures/105726\",\n",
    "\"https://klue.kr/lectures/105727\",\n",
    "\"https://klue.kr/lectures/105728\",\n",
    "\"https://klue.kr/lectures/105729\",\n",
    "\"https://klue.kr/lectures/105730\",\n",
    "\"https://klue.kr/lectures/105731\",\n",
    "\"https://klue.kr/lectures/105732\",\n",
    "\"https://klue.kr/lectures/105733\",\n",
    "\"https://klue.kr/lectures/105734\",\n",
    "\"https://klue.kr/lectures/105735\",\n",
    "\"https://klue.kr/lectures/105736\",\n",
    "\"https://klue.kr/lectures/105737\",\n",
    "\"https://klue.kr/lectures/105738\",\n",
    "\"https://klue.kr/lectures/105739\",\n",
    "\"https://klue.kr/lectures/105740\",\n",
    "\"https://klue.kr/lectures/105831\",\n",
    "\"https://klue.kr/lectures/105832\",\n",
    "\"https://klue.kr/lectures/105833\",\n",
    "\"https://klue.kr/lectures/105834\",\n",
    "\"https://klue.kr/lectures/105835\",\n",
    "\"https://klue.kr/lectures/105836\",\n",
    "\"https://klue.kr/lectures/105837\",\n",
    "\"https://klue.kr/lectures/105838\",\n",
    "\"https://klue.kr/lectures/105839\",\n",
    "\"https://klue.kr/lectures/105840\",\n",
    "\"https://klue.kr/lectures/105841\",\n",
    "\"https://klue.kr/lectures/105842\",\n",
    "\"https://klue.kr/lectures/105843\",\n",
    "\"https://klue.kr/lectures/105844\",\n",
    "\"https://klue.kr/lectures/105845\",\n",
    "\"https://klue.kr/lectures/105846\",\n",
    "\"https://klue.kr/lectures/105847\",\n",
    "\"https://klue.kr/lectures/105848\",\n",
    "\"https://klue.kr/lectures/105849\",\n",
    "\"https://klue.kr/lectures/105850\",\n",
    "\"https://klue.kr/lectures/105851\",\n",
    "\"https://klue.kr/lectures/105852\",\n",
    "]"
   ]
  },
  {
   "cell_type": "code",
   "execution_count": 8,
   "metadata": {},
   "outputs": [],
   "source": [
    "import urllib.response, requests\n",
    "import openpyxl\n",
    "\n",
    "try:\n",
    "    wb = openpyxl.load_workbook(\"./klue_info_text.xlsx\")\n",
    "    sheet = wb.active\n",
    "\n",
    "except:  # try에서 error 발생하면\n",
    "    wb = openpyxl.Workbook()\n",
    "    sheet = wb.active\n",
    "    sheet.append([\"class_name\", \"professor_name\",\"evaluation\"])"
   ]
  },
  {
   "cell_type": "code",
   "execution_count": 9,
   "metadata": {},
   "outputs": [
    {
     "name": "stderr",
     "output_type": "stream",
     "text": [
      "100%|██████████████████████████████████████████████████████████████████████████████████| 48/48 [03:19<00:00,  4.15s/it]"
     ]
    },
    {
     "name": "stdout",
     "output_type": "stream",
     "text": [
      "download complete\n"
     ]
    },
    {
     "name": "stderr",
     "output_type": "stream",
     "text": [
      "\n"
     ]
    }
   ],
   "source": [
    "# 강의명, 교수명, 강의평 한번에\n",
    "\n",
    "#강의명/교수명/강의평 데이터 크롤링 (workbook에 저장)\n",
    "for i in tqdm(range(0,len(urls))):\n",
    "    try:\n",
    "        driver.get(urls[i])\n",
    "        \n",
    "        # 강의명, 교수명\n",
    "        try:\n",
    "            class_name = driver.find_element_by_xpath(\"/html/body/div/div/div/section[1]/div/div[1]/div[1]/div[2]/p[1]\")\n",
    "            professor_name = driver.find_element_by_xpath(\"/html/body/div/div/div/section[1]/div/div[1]/div[1]/div[2]/p[2]/span[1]\")\n",
    "            \n",
    "            # 강의평\n",
    "            container = driver.find_elements_by_xpath(\"/html/body/div/div/div/section[3]/div/div/div[2]/div/div\")\n",
    "            for n in range(1, max(len(container),51)):\n",
    "                evaluation = driver.find_element_by_xpath(\"/html/body/div/div/div/section[3]/div/div/div[2]/div/div[%d]/p\" % n)\n",
    "                sheet.append([class_name.text, professor_name.text, evaluation.text])\n",
    "                \n",
    "        except:\n",
    "            class_name = \"NULL\"\n",
    "            professor_name = \"NULL\"\n",
    "            evalutation = \"NULL\"\n",
    "        \n",
    "    except:\n",
    "        print('error')\n",
    "\n",
    "print('download complete')\n",
    "\n",
    "\n",
    "\n",
    "wb.save(\"./klue_info_text.xlsx\")"
   ]
  },
  {
   "cell_type": "code",
   "execution_count": null,
   "metadata": {},
   "outputs": [],
   "source": []
  }
 ],
 "metadata": {
  "kernelspec": {
   "display_name": "Python 3",
   "language": "python",
   "name": "python3"
  },
  "language_info": {
   "codemirror_mode": {
    "name": "ipython",
    "version": 3
   },
   "file_extension": ".py",
   "mimetype": "text/x-python",
   "name": "python",
   "nbconvert_exporter": "python",
   "pygments_lexer": "ipython3",
   "version": "3.8.5"
  }
 },
 "nbformat": 4,
 "nbformat_minor": 5
}
