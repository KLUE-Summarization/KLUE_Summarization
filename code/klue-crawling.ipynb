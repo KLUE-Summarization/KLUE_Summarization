{
  "nbformat": 4,
  "nbformat_minor": 5,
  "metadata": {
    "colab": {
      "name": "KLUE 강의평 크롤링.ipynb",
      "provenance": [],
      "collapsed_sections": []
    },
    "kernelspec": {
      "display_name": "Python 3",
      "language": "python",
      "name": "python3"
    },
    "language_info": {
      "codemirror_mode": {
        "name": "ipython",
        "version": 3
      },
      "file_extension": ".py",
      "mimetype": "text/x-python",
      "name": "python",
      "nbconvert_exporter": "python",
      "pygments_lexer": "ipython3",
      "version": "3.8.8"
    }
  },
  "cells": [
    {
      "cell_type": "code",
      "metadata": {
        "id": "5a7b9eba"
      },
      "source": [
        "!pip install selenium\n",
        "!apt-get update\n",
        "!apt install chromium-chromedriver"
      ],
      "id": "5a7b9eba",
      "execution_count": null,
      "outputs": []
    },
    {
      "cell_type": "code",
      "metadata": {
        "colab": {
          "base_uri": "https://localhost:8080/"
        },
        "id": "64wrefLA-quE",
        "outputId": "b544ad31-783c-4ca9-e1d9-3fa2ec1049f9"
      },
      "source": [
        "from google.colab import drive\n",
        "drive.mount('/content/drive')"
      ],
      "id": "64wrefLA-quE",
      "execution_count": null,
      "outputs": [
        {
          "output_type": "stream",
          "text": [
            "Drive already mounted at /content/drive; to attempt to forcibly remount, call drive.mount(\"/content/drive\", force_remount=True).\n"
          ],
          "name": "stdout"
        }
      ]
    },
    {
      "cell_type": "code",
      "metadata": {
        "id": "88011272"
      },
      "source": [
        "from selenium import webdriver\n",
        "from urllib.request import urlopen\n",
        "from selenium.webdriver.common.keys import Keys\n",
        "import time\n",
        "import sys\n",
        "import requests"
      ],
      "id": "88011272",
      "execution_count": null,
      "outputs": []
    },
    {
      "cell_type": "code",
      "metadata": {
        "id": "cc4186f4"
      },
      "source": [
        "#KLUE 아이디/비밀번호 입력\n",
        "id = \"\"\n",
        "pwd = \"\""
      ],
      "id": "cc4186f4",
      "execution_count": null,
      "outputs": []
    },
    {
      "cell_type": "code",
      "metadata": {
        "id": "ae2276f3"
      },
      "source": [
        "url = \"https://klue.kr/login\"\n",
        "\n",
        "options = webdriver.ChromeOptions()\n",
        "options.add_argument('--headless')\n",
        "options.add_argument('--no-sandbox')\n",
        "options.add_argument(\"--single-process\")\n",
        "options.add_argument(\"--disable-dev-shm-usage\")\n",
        "driver = webdriver.Chrome('chromedriver', options=options)\n",
        "\n",
        "delay_time = 3\n",
        "driver.implicitly_wait(delay_time)\n",
        "\n",
        "driver.get(url)"
      ],
      "id": "ae2276f3",
      "execution_count": null,
      "outputs": []
    },
    {
      "cell_type": "code",
      "metadata": {
        "id": "54eaafc3"
      },
      "source": [
        "#아이디, 비밀번호 접근\n",
        "input_id = driver.find_element_by_xpath(\"/html/body/div/div/div/div/div/div/input[1]\")\n",
        "input_id.send_keys(id)\n",
        "\n",
        "input_pwd = driver.find_element_by_xpath(\"/html/body/div/div/div/div/div/div/input[2]\")\n",
        "input_pwd.send_keys(pwd)"
      ],
      "id": "54eaafc3",
      "execution_count": null,
      "outputs": []
    },
    {
      "cell_type": "code",
      "metadata": {
        "id": "ab8084af"
      },
      "source": [
        "#로그인 버튼 클릭\n",
        "login = driver.find_element_by_xpath(\"/html/body/div/div/div/div/div/div/button\")\n",
        "login.click()"
      ],
      "id": "ab8084af",
      "execution_count": null,
      "outputs": []
    },
    {
      "cell_type": "code",
      "metadata": {
        "id": "74d861a7"
      },
      "source": [
        "urls = [\n",
        "\"https://klue.kr/lectures/105619\",\n",
        "\"https://klue.kr/lectures/105620\",\n",
        "\"https://klue.kr/lectures/105621\",\n",
        "\"https://klue.kr/lectures/105622\",\n",
        "\"https://klue.kr/lectures/105623\",\n",
        "\"https://klue.kr/lectures/105624\",\n",
        "\"https://klue.kr/lectures/105625\",\n",
        "\"https://klue.kr/lectures/105626\",\n",
        "\"https://klue.kr/lectures/105627\",\n",
        "\"https://klue.kr/lectures/105628\",\n",
        "\"https://klue.kr/lectures/105629\",\n",
        "\"https://klue.kr/lectures/105630\",\n",
        "\"https://klue.kr/lectures/105631\",\n",
        "\"https://klue.kr/lectures/105632\",\n",
        "\"https://klue.kr/lectures/105633\",\n",
        "\"https://klue.kr/lectures/105634\",\n",
        "\"https://klue.kr/lectures/105635\",\n",
        "\"https://klue.kr/lectures/105636\",\n",
        "\"https://klue.kr/lectures/105637\",\n",
        "\"https://klue.kr/lectures/105638\",\n",
        "\"https://klue.kr/lectures/105639\",\n",
        "\"https://klue.kr/lectures/105640\",\n",
        "\"https://klue.kr/lectures/105641\",\n",
        "\"https://klue.kr/lectures/105642\",\n",
        "\"https://klue.kr/lectures/105643\",\n",
        "\"https://klue.kr/lectures/105644\",\n",
        "\"https://klue.kr/lectures/105645\",\n",
        "\"https://klue.kr/lectures/105646\",\n",
        "\"https://klue.kr/lectures/105647\",\n",
        "\"https://klue.kr/lectures/105648\",\n",
        "\"https://klue.kr/lectures/105649\",\n",
        "\"https://klue.kr/lectures/105650\",\n",
        "\"https://klue.kr/lectures/105651\",\n",
        "\"https://klue.kr/lectures/105652\",\n",
        "\"https://klue.kr/lectures/105653\",\n",
        "\"https://klue.kr/lectures/105654\",\n",
        "\"https://klue.kr/lectures/105655\",\n",
        "\"https://klue.kr/lectures/105656\",\n",
        "\"https://klue.kr/lectures/105657\",\n",
        "\"https://klue.kr/lectures/105658\",\n",
        "\"https://klue.kr/lectures/105659\",\n",
        "\"https://klue.kr/lectures/105660\",\n",
        "\"https://klue.kr/lectures/105661\",\n",
        "\"https://klue.kr/lectures/105662\",\n",
        "\"https://klue.kr/lectures/105663\",\n",
        "\"https://klue.kr/lectures/105664\",\n",
        "\"https://klue.kr/lectures/105665\",\n",
        "\"https://klue.kr/lectures/105666\",\n",
        "\"https://klue.kr/lectures/105667\",\n",
        "\"https://klue.kr/lectures/105668\",\n",
        "\"https://klue.kr/lectures/105669\",\n",
        "\"https://klue.kr/lectures/105670\",\n",
        "\"https://klue.kr/lectures/105671\",\n",
        "\"https://klue.kr/lectures/105672\",\n",
        "\"https://klue.kr/lectures/105673\",\n",
        "\"https://klue.kr/lectures/105674\",\n",
        "\"https://klue.kr/lectures/105675\",\n",
        "\"https://klue.kr/lectures/105676\",\n",
        "\"https://klue.kr/lectures/105677\",\n",
        "\"https://klue.kr/lectures/105678\",\n",
        "\"https://klue.kr/lectures/105679\",\n",
        "\"https://klue.kr/lectures/105680\",\n",
        "\"https://klue.kr/lectures/105681\",\n",
        "\"https://klue.kr/lectures/105682\",\n",
        "\"https://klue.kr/lectures/105683\",\n",
        "\"https://klue.kr/lectures/105684\",\n",
        "\"https://klue.kr/lectures/105685\",\n",
        "\"https://klue.kr/lectures/105686\",\n",
        "\"https://klue.kr/lectures/105687\",\n",
        "\"https://klue.kr/lectures/105688\",\n",
        "\"https://klue.kr/lectures/105689\",\n",
        "\"https://klue.kr/lectures/105690\",\n",
        "\"https://klue.kr/lectures/105691\",\n",
        "\"https://klue.kr/lectures/105692\",\n",
        "\"https://klue.kr/lectures/105693\",\n",
        "\"https://klue.kr/lectures/105694\",\n",
        "\"https://klue.kr/lectures/105695\",\n",
        "\"https://klue.kr/lectures/105696\",\n",
        "\"https://klue.kr/lectures/105697\"]"
      ],
      "id": "74d861a7",
      "execution_count": null,
      "outputs": []
    },
    {
      "cell_type": "code",
      "metadata": {
        "id": "50d672f7"
      },
      "source": [
        "#크롤링된 내용 저장할 workbook 생성\n",
        "import urllib.response, requests\n",
        "import openpyxl\n",
        "\n",
        "try:\n",
        "    wb = openpyxl.load_workbook(\"/content/drive/Shareddrives/KU 데이터톤/KLUE 크롤링/klue_scoring.xlsx\")\n",
        "    sheet = wb.active\n",
        "\n",
        "except:  # try에서 error 발생하면\n",
        "    wb = openpyxl.Workbook()\n",
        "    sheet = wb.active\n",
        "    sheet.append([\"class_name\", \"professor_name\", \"work_load\", \"level\", \"teaching\", \"proud\"])"
      ],
      "id": "50d672f7",
      "execution_count": null,
      "outputs": []
    },
    {
      "cell_type": "code",
      "metadata": {
        "id": "bd6e0768"
      },
      "source": [
        "#강의명/교수명/강의평 데이터 크롤링 (workbook에 저장)\n",
        "for i in range (0,80):\n",
        "    try:\n",
        "        driver.get(urls[i])\n",
        "        info = driver.find_elements_by_xpath(\"/html/body/div/div/div/section[1]/div/div[1]/div[1]/div[2]\")\n",
        "        for n in info:\n",
        "            try:\n",
        "                class_name = n.find_element_by_xpath(\"/html/body/div/div/div/section[1]/div/div[1]/div[1]/div[2]/p[1]\")\n",
        "                professor_name = n.find_element_by_xpath(\"/html/body/div/div/div/section[1]/div/div[1]/div[1]/div[2]/p[2]/span[1]\")\n",
        "            except:\n",
        "                class_name = \"NULL\"\n",
        "                professor_name = \"NULL\"\n",
        "\n",
        "        #강의 평가 컨테이너 데이터 수집\n",
        "        evals = driver.find_elements_by_xpath(\"/html/body/div/div/div/section[1]/div/div[3]/div/div[1]/div[3]\")\n",
        "        for e in evals:\n",
        "            try: #학습량\n",
        "                work_load = e.find_element_by_xpath(\"/html/body/div/div/div/section[1]/div/div[3]/div/div[1]/div[3]/div[1]/div[1]/div[1]/span[2]\")\n",
        "            except:\n",
        "                work_load = \"NULL\"\n",
        "            try: #난이도\n",
        "                level = e.find_element_by_xpath(\"/html/body/div/div/div/section[1]/div/div[3]/div/div[1]/div[3]/div[1]/div[2]/div[1]/span[2]\")\n",
        "            except:\n",
        "                level = \"NULL\"\n",
        "            try: #학점\n",
        "                teaching = e.find_element_by_xpath(\"/html/body/div/div/div/section[1]/div/div[3]/div/div[1]/div[3]/div[2]/div[1]/div[1]/span[2]\")\n",
        "            except:\n",
        "                teaching = \"NULL\"\n",
        "            try: #성취감\n",
        "                proud = e.find_element_by_xpath(\"/html/body/div/div/div/section[1]/div/div[3]/div/div[1]/div[3]/div[2]/div[2]/div[1]/span[2]\")\n",
        "            except:\n",
        "                proud = \"NULL\"        \n",
        "        sheet.append([class_name.text, professor_name.text, work_load.text, level.text, teaching.text, proud.text])\n",
        "        print('pass')\n",
        "    except:\n",
        "        print('error')\n",
        "    print('download complete')\n",
        "\n",
        "\n",
        "\n",
        "wb.save(\"/content/drive/Shareddrives/KU 데이터톤/KLUE 크롤링/klue_scoring.xlsx\")\n"
      ],
      "id": "bd6e0768",
      "execution_count": null,
      "outputs": []
    },
    {
      "cell_type": "code",
      "metadata": {
        "id": "c5d54a7d"
      },
      "source": [
        "#강의평 데이터는 순환문이 달라 따로 저장\n",
        "try:\n",
        "    wb = openpyxl.load_workbook(\"/content/drive/Shareddrives/KU 데이터톤/KLUE 크롤링/klue_evaluation_f.xlsx\")\n",
        "    sheet = wb.active\n",
        "\n",
        "except:  # try에서 error 발생하면\n",
        "    wb = openpyxl.Workbook()\n",
        "    sheet = wb.active\n",
        "    sheet.append([\"evaluation\"])\n",
        "\n",
        "# 강의평 텍스트\n",
        "for i in range (0,80):\n",
        "    try:\n",
        "        driver.get(urls[i])\n",
        "        eval_list = []\n",
        "        for n in range(1, 50):\n",
        "            try:\n",
        "                container = driver.find_elements_by_xpath(\"/html/body/div/div/div/section[3]/div/div/div[2]/div/div[%d]\" % n)\n",
        "                for c in container:\n",
        "                    evaluation = c.find_element_by_xpath(\"/html/body/div/div/div/section[3]/div/div/div[2]/div/div[%d]/p\" % n)\n",
        "                    eval_list.append(evaluation.text)\n",
        "                    n += 1  \n",
        "            except:\n",
        "                break\n",
        "        eval_list = \"\".join(eval_list)\n",
        "        sheet.append([eval_list])\n",
        "        print('pass')\n",
        "    except:\n",
        "        print('error')\n",
        "print('download complete')\n",
        "wb.save(\"/content/drive/Shareddrives/KU 데이터톤/KLUE 크롤링/klue_evaluation_f.xlsx\")\n"
      ],
      "id": "c5d54a7d",
      "execution_count": null,
      "outputs": []
    },
    {
      "cell_type": "code",
      "metadata": {
        "id": "32088700",
        "colab": {
          "base_uri": "https://localhost:8080/",
          "height": 205
        },
        "outputId": "38ccf5d4-29ac-4ab3-a48b-75988eac637d"
      },
      "source": [
        "#점수/강의평 데이터 합쳐주기\n",
        "import pandas as pd\n",
        "\n",
        "klue_score = pd.read_excel(\"/content/drive/Shareddrives/KU 데이터톤/KLUE 크롤링/klue_scoring.xlsx\")\n",
        "klue_eval = pd.read_excel(\"/content/drive/Shareddrives/KU 데이터톤/KLUE 크롤링/klue_evaluation_f.xlsx\")\n",
        "\n",
        "klue = pd.concat([klue_score, klue_eval], axis=1)\n",
        "klue.head()"
      ],
      "id": "32088700",
      "execution_count": null,
      "outputs": [
        {
          "output_type": "execute_result",
          "data": {
            "text/html": [
              "<div>\n",
              "<style scoped>\n",
              "    .dataframe tbody tr th:only-of-type {\n",
              "        vertical-align: middle;\n",
              "    }\n",
              "\n",
              "    .dataframe tbody tr th {\n",
              "        vertical-align: top;\n",
              "    }\n",
              "\n",
              "    .dataframe thead th {\n",
              "        text-align: right;\n",
              "    }\n",
              "</style>\n",
              "<table border=\"1\" class=\"dataframe\">\n",
              "  <thead>\n",
              "    <tr style=\"text-align: right;\">\n",
              "      <th></th>\n",
              "      <th>class_name</th>\n",
              "      <th>professor_name</th>\n",
              "      <th>work_load</th>\n",
              "      <th>level</th>\n",
              "      <th>teaching</th>\n",
              "      <th>proud</th>\n",
              "      <th>evaluation</th>\n",
              "    </tr>\n",
              "  </thead>\n",
              "  <tbody>\n",
              "    <tr>\n",
              "      <th>0</th>\n",
              "      <td>창업가의마인드셋</td>\n",
              "      <td>김진영</td>\n",
              "      <td>2.6</td>\n",
              "      <td>2.3</td>\n",
              "      <td>4.1</td>\n",
              "      <td>3.2</td>\n",
              "      <td>학점을 굉장히 잘 주시고 수업도 굉장히 열정적으로 하시는 편입니다. 싸강이고 1교시...</td>\n",
              "    </tr>\n",
              "    <tr>\n",
              "      <th>1</th>\n",
              "      <td>경영수학(영강)</td>\n",
              "      <td>임희주</td>\n",
              "      <td>4.5</td>\n",
              "      <td>4.1</td>\n",
              "      <td>3.5</td>\n",
              "      <td>3.9</td>\n",
              "      <td>경영대 전공선택 중에서 아주 어렵지 않으면서도 무언가를 배웠다 싶은 느낌이 드는 강...</td>\n",
              "    </tr>\n",
              "    <tr>\n",
              "      <th>2</th>\n",
              "      <td>경영수학(영강)</td>\n",
              "      <td>이남경</td>\n",
              "      <td>3.3</td>\n",
              "      <td>3.1</td>\n",
              "      <td>2.8</td>\n",
              "      <td>3.0</td>\n",
              "      <td>크게 막 배우는 건 없습니다. 행렬 말고는 대부분 고등학교 때 배웠던 부분입니다.....</td>\n",
              "    </tr>\n",
              "    <tr>\n",
              "      <th>3</th>\n",
              "      <td>마케팅원론*1~2주차 수업 수강 필수</td>\n",
              "      <td>박종원</td>\n",
              "      <td>3.8</td>\n",
              "      <td>3.1</td>\n",
              "      <td>4.2</td>\n",
              "      <td>3.6</td>\n",
              "      <td>확실히 유연학기다 보니 힘들기는 합니다..ㅎㅎ 그리고 교수님 마이크가 이상한 건지 ...</td>\n",
              "    </tr>\n",
              "    <tr>\n",
              "      <th>4</th>\n",
              "      <td>마케팅원론</td>\n",
              "      <td>박찬수</td>\n",
              "      <td>2.8</td>\n",
              "      <td>2.8</td>\n",
              "      <td>4.5</td>\n",
              "      <td>3.9</td>\n",
              "      <td>매주 토론, 성찰일지 작성은 번거롭지만 토론에서 남는 것은 많은 것 같습니다.\\n그...</td>\n",
              "    </tr>\n",
              "  </tbody>\n",
              "</table>\n",
              "</div>"
            ],
            "text/plain": [
              "             class_name  ...                                         evaluation\n",
              "0              창업가의마인드셋  ...  학점을 굉장히 잘 주시고 수업도 굉장히 열정적으로 하시는 편입니다. 싸강이고 1교시...\n",
              "1              경영수학(영강)  ...  경영대 전공선택 중에서 아주 어렵지 않으면서도 무언가를 배웠다 싶은 느낌이 드는 강...\n",
              "2              경영수학(영강)  ...  크게 막 배우는 건 없습니다. 행렬 말고는 대부분 고등학교 때 배웠던 부분입니다.....\n",
              "3  마케팅원론*1~2주차 수업 수강 필수  ...  확실히 유연학기다 보니 힘들기는 합니다..ㅎㅎ 그리고 교수님 마이크가 이상한 건지 ...\n",
              "4                 마케팅원론  ...  매주 토론, 성찰일지 작성은 번거롭지만 토론에서 남는 것은 많은 것 같습니다.\\n그...\n",
              "\n",
              "[5 rows x 7 columns]"
            ]
          },
          "metadata": {
            "tags": []
          },
          "execution_count": 12
        }
      ]
    }
  ]
}